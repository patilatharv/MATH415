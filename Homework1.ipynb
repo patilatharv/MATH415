{
  "nbformat": 4,
  "nbformat_minor": 0,
  "metadata": {
    "colab": {
      "provenance": [],
      "include_colab_link": true
    },
    "kernelspec": {
      "name": "ir",
      "display_name": "R"
    },
    "language_info": {
      "name": "R"
    }
  },
  "cells": [
    {
      "cell_type": "markdown",
      "metadata": {
        "id": "view-in-github",
        "colab_type": "text"
      },
      "source": [
        "<a href=\"https://colab.research.google.com/github/patilatharv/Math415/blob/main/Homework1.ipynb\" target=\"_parent\"><img src=\"https://colab.research.google.com/assets/colab-badge.svg\" alt=\"Open In Colab\"/></a>"
      ]
    },
    {
      "cell_type": "markdown",
      "source": [
        "#Problem 3: Loading the data\n",
        "NOTE: Since the default language in google co-lab is python, you may have to first change the compiler to R first through Runtime->Change runtime type."
      ],
      "metadata": {
        "id": "A153_6oFltWm"
      }
    },
    {
      "cell_type": "code",
      "source": [
        "\n",
        "\n",
        "horse_data=c(0, 2, 2, 1, 0, 0, 1, 1, 0, 3, 0, 2, 1, 0, 0, 1, 0, 1, 0, 1,\n",
        "0, 0, 0, 2, 0, 3, 0, 2, 0, 0, 0, 1, 1, 1, 0, 2, 0, 3, 1, 0, 0,\n",
        "0, 0, 2, 0, 2, 0, 0, 1, 1, 0, 0, 2, 1, 1, 0, 0, 2, 0, 0, 0, 0,\n",
        "0, 1, 1, 1, 2, 0, 2, 0, 0, 0, 1, 0, 1, 2, 1, 0, 0, 0, 0, 1, 0,\n",
        "1, 1, 1, 1, 0, 0, 0, 0, 1, 0, 0, 0, 0, 1, 1, 0, 0, 0, 0, 0, 0,\n",
        "2, 1, 0, 0, 1, 0, 0, 1, 0, 1, 1, 1, 1, 1, 1, 0, 0, 0, 1, 0, 2,\n",
        "0, 0, 1, 2, 0, 1, 1, 3, 1, 1, 1, 0, 3, 0, 0, 1, 0, 1, 0, 0, 0,\n",
        "1, 0, 1, 1, 0, 0, 2, 0, 0, 2, 1, 0, 2, 0, 1, 0, 0, 0, 1, 0, 0,\n",
        "1, 0, 0, 0, 0, 1, 0, 0, 0, 1, 1, 0, 1, 0, 0, 0, 0, 0, 2, 1, 1,\n",
        "1, 0, 2, 1, 1, 0, 1, 2, 0, 1, 0, 0, 0, 0, 1, 1, 0, 1, 0, 2, 0,\n",
        "2, 0, 0, 0, 0, 2, 1, 3, 0, 1, 1, 0, 0, 0, 0, 2, 4, 0, 1, 3, 0,\n",
        "1, 1, 1, 1, 2, 1, 3, 1, 3, 1, 1, 1, 2, 1, 1, 3, 0, 4, 0, 1, 0,\n",
        "3, 2, 1, 0, 2, 1, 1, 0, 0, 0, 1, 0, 0, 0, 0, 0, 1, 0, 1, 1, 0,\n",
        "0, 0, 2, 2, 0, 0, 0, 0)"
      ],
      "metadata": {
        "id": "lXaVCrLRluNj"
      },
      "execution_count": null,
      "outputs": []
    },
    {
      "cell_type": "markdown",
      "source": [
        "#Problem 3(a): Plot the frequencies\n"
      ],
      "metadata": {
        "id": "9u9bHuiyldrw"
      }
    },
    {
      "cell_type": "code",
      "source": [
        "#YOUR CODE BELOW. Start with with the following to calculate the frequencies in the data:\n",
        "x=table(horse_data)\n"
      ],
      "metadata": {
        "id": "LeW0-yHdlqsd",
        "colab": {
          "base_uri": "https://localhost:8080/",
          "height": 141
        },
        "outputId": "61bc97ea-71a4-4349-97df-f75335a3151c"
      },
      "execution_count": null,
      "outputs": [
        {
          "output_type": "error",
          "ename": "ERROR",
          "evalue": "Error in eval(expr, envir, enclos): object 'horse_data' not found\n",
          "traceback": [
            "Error in eval(expr, envir, enclos): object 'horse_data' not found\nTraceback:\n",
            "1. table(horse_data)"
          ]
        }
      ]
    },
    {
      "cell_type": "markdown",
      "source": [
        "#Problem 3(b): Calculate $\\hat{\\lambda}_1$ and $\\hat{\\lambda}_2$ (from problem 2) for the data.\n",
        "\n"
      ],
      "metadata": {
        "id": "xi3bXx4dlT0N"
      }
    },
    {
      "cell_type": "code",
      "source": [
        "#YOUR CODE BELOW.\n"
      ],
      "metadata": {
        "id": "p67zBwo8loBK"
      },
      "execution_count": null,
      "outputs": []
    },
    {
      "cell_type": "markdown",
      "source": [
        "#Problem 3(c): Plot the p.m.f. of the Poisson distribution with respect to $\\hat{\\lambda}_1$ and $\\hat{\\lambda}_2$ on top of the frequency plot (give the two p.m.f.s different colors in order to tell which one is which). Which estimate fits the data better?"
      ],
      "metadata": {
        "id": "SqTmLPvqllFD"
      }
    },
    {
      "cell_type": "code",
      "source": [
        "#YOUR CODE BELOW. You may use dpois(0:4,lambda) to calculate the p.m.f., and \"lines\" to do the plotting\n",
        "\n"
      ],
      "metadata": {
        "id": "FWN8K7wtlpTV"
      },
      "execution_count": null,
      "outputs": []
    },
    {
      "cell_type": "markdown",
      "source": [
        "Written answer:"
      ],
      "metadata": {
        "id": "m32XoKLnxV5N"
      }
    },
    {
      "cell_type": "markdown",
      "source": [
        "#Problem 4\n",
        "\n",
        "(a) What is the code below doing?\n",
        "\n",
        "(b) Empirically calculate the bias and the variance of the two estimators. How close are they to what you would expect?"
      ],
      "metadata": {
        "id": "F8oL6Dn9mc7b"
      }
    },
    {
      "cell_type": "code",
      "source": [
        "n=30\n",
        "biased_sample_variances=rep(NA,100)\n",
        "unbiased_estimate=rep(NA,100)\n",
        "for(i in 1:100){\n",
        "  x=rnorm(n,sd=sqrt(2))\n",
        "  biased_sample_variances[i]=sum((x-mean(x))^2)/n\n",
        "  unbiased_estimate[i]=sum((x-mean(x))^2)/(n-1)\n",
        "}\n",
        "\n",
        "\n"
      ],
      "metadata": {
        "id": "O-UmOhdom0px"
      },
      "execution_count": 1,
      "outputs": []
    },
    {
      "cell_type": "markdown",
      "source": [
        "Written answer:"
      ],
      "metadata": {
        "id": "t1IEdWffzhyh"
      }
    }
  ]
}